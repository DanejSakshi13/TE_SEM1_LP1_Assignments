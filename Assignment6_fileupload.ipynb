{
 "cells": [
  {
   "cell_type": "code",
   "execution_count": null,
   "id": "a36be8d5-90c8-42d0-a6d9-2a18299bda2c",
   "metadata": {},
   "outputs": [],
   "source": [
    "import tkinter as tk\n",
    "from tkinter import filedialog\n",
    "\n",
    "def open_file_dialog():\n",
    "    file_path = filedialog.askopenfilename(title=\"Select a file\")\n",
    "    if file_path:\n",
    "        selected_file_label.config(text=f\"Selected File: {file_path}\")\n",
    "\n",
    "def submit_file():\n",
    "    if selected_file_label.cget(\"text\") == \"Selected File: \":\n",
    "        result_label.config(text=\"Please select a file first.\")\n",
    "    else:\n",
    "        result_label.config(text=\"File submitted successfully!\")\n",
    "\n",
    "root = tk.Tk()\n",
    "root.title(\"File Upload App\")\n",
    "root.geometry(\"400x200\")  # Set the window size\n",
    "\n",
    "# Create and configure the labels and buttons\n",
    "select_file_button = tk.Button(root, text=\"Select File\", command=open_file_dialog, font=(\"Helvetica\", 12))\n",
    "selected_file_label = tk.Label(root, text=\"Selected File: \", font=(\"Helvetica\", 12))\n",
    "submit_button = tk.Button(root, text=\"Submit\", command=submit_file, font=(\"Helvetica\", 12))\n",
    "result_label = tk.Label(root, text=\"\", font=(\"Helvetica\", 12), fg=\"green\")\n",
    "\n",
    "# Place the widgets on the window using grid layout\n",
    "select_file_button.grid(row=0, column=0, padx=10, pady=10)\n",
    "selected_file_label.grid(row=0, column=1, padx=10, pady=10)\n",
    "submit_button.grid(row=1, column=0, columnspan=2, padx=10, pady=10)\n",
    "result_label.grid(row=2, column=0, columnspan=2, padx=10, pady=10)\n",
    "\n",
    "# Start the main event loop\n",
    "root.mainloop()\n"
   ]
  }
 ],
 "metadata": {
  "kernelspec": {
   "display_name": "Python 3 (ipykernel)",
   "language": "python",
   "name": "python3"
  },
  "language_info": {
   "codemirror_mode": {
    "name": "ipython",
    "version": 3
   },
   "file_extension": ".py",
   "mimetype": "text/x-python",
   "name": "python",
   "nbconvert_exporter": "python",
   "pygments_lexer": "ipython3",
   "version": "3.10.1"
  }
 },
 "nbformat": 4,
 "nbformat_minor": 5
}
